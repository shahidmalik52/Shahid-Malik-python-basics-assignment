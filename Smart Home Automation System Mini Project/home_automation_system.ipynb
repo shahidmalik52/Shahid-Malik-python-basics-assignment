{
 "cells": [
  {
   "cell_type": "markdown",
   "metadata": {},
   "source": [
    "### 1. Device Management (Lists & Tuples)\n",
    "**Task 1.1: Create and Manage a List of Smart Devices**\n",
    "  - Create a list of at least 5 smart home devices (e.g., \"Lights\", \"Fan\", \"AC\", \"DoorLock\", \"Thermostat\").\n",
    "  - Allow the user to:\n",
    "      - Add a new device.\n",
    "      - Remove a device.\n",
    "      - Sort devices alphabetically"
   ]
  },
  {
   "cell_type": "code",
   "execution_count": 6,
   "metadata": {},
   "outputs": [
    {
     "name": "stdout",
     "output_type": "stream",
     "text": [
      "Devices: ['Fan', 'TV', 'LED bulb', 'Fridge', 'Iron']\n"
     ]
    }
   ],
   "source": [
    "device_list = []\n",
    "for num_of_devices in range(0,5):           # to make sure at least five inputs\n",
    "    device = input(\"Enter device name: \")   # get user input\n",
    "    device_list.append(device)              # add to list\n",
    "while True:                                 # loop until user chooses to exit\n",
    "    choice = input('Do you want to add more? Press Y for Yes or any other key for No: ').lower()  # get user input for above 5 items\n",
    "    if choice == 'y':                               # if user chooses to add more\n",
    "        device = input(\"Enter device name: \")       # get input from user    \n",
    "        device_list.append(device)                  # add to list\n",
    "        continue                                    # go back to the start of the loop\n",
    "    else:                   \n",
    "        break                                       # exit the loop\n",
    "print(f'Devices: {device_list}')   # print the list of devices\n"
   ]
  },
  {
   "cell_type": "markdown",
   "metadata": {},
   "source": [
    "**Add, Remove, Sort list items**"
   ]
  },
  {
   "cell_type": "code",
   "execution_count": 8,
   "metadata": {},
   "outputs": [
    {
     "name": "stdout",
     "output_type": "stream",
     "text": [
      "Updated devices: ['Fan', 'Fridge', 'Iron', 'LED bulb', 'Laptop Charger', 'Mobile charger', 'TV']\n",
      "Sorted devices: None\n"
     ]
    }
   ],
   "source": [
    "while True:                 # To continue until user wants to stop\n",
    "    action = input('Press A to add a new device, R to remove a device, S to sort the list or any other key to quit: ').lower()\n",
    "    if action == 'a':                               # If user chooses to add a device\n",
    "        device = input('Enter device name: ')\n",
    "        device_list.append(device)\n",
    "        continue\n",
    "    elif action == 'r':                             # If user chooses to remove a device\n",
    "        device_to_be_removed = input('Enter the device name for removal')\n",
    "        if device_to_be_removed in device_list:\n",
    "            device_list.remove(device_to_be_removed)\n",
    "            continue\n",
    "    elif action == 's':                             # If user chooses to sort the list\n",
    "        sorted_device_list = device_list.sort()\n",
    "        continue\n",
    "    else:\n",
    "        break                                       # If user chooses any other key, exit the loop\n",
    "print(f'Updated devices: {device_list}')            # Print the updated list\n",
    "print(f'Sorted devices: {sorted_device_list}')      # Print the sorted list\n"
   ]
  },
  {
   "cell_type": "markdown",
   "metadata": {},
   "source": [
    "**Task 1.2: Store Device Settings Using Tuples**\n",
    "- Define a tuple for each device, containing:\n",
    "    - Device name\n",
    "    - Device status (ON/OFF)\n",
    "    - Device power consumption (in Watts)\n",
    "    - Allow users to view all devices with their status and power consumption"
   ]
  },
  {
   "cell_type": "code",
   "execution_count": 5,
   "metadata": {},
   "outputs": [
    {
     "name": "stdout",
     "output_type": "stream",
     "text": [
      "Lights: ('Lights', 'ON', 12)\n",
      "Ac: ('Ac', 'OFF', 3000)\n",
      "Fan: ('Fan', 'ON', 60)\n"
     ]
    }
   ],
   "source": [
    "devices = []                                                                    # List to store the devices\n",
    "while True:                                                                     # Loop to keep the program running until the user chooses to exit\n",
    "    device_name = input('Enter device name: ').capitalize()                     # enter device name\n",
    "    device_status = input('Enter device status ON/OFF').upper()                 # enter device status\n",
    "    if device_status != 'ON' and device_status != 'OFF':                        # verify the device status is valid or not\n",
    "        continue\n",
    "    else:\n",
    "        device_power = int(input('Enter device power: '))                       # enter device power\n",
    "        device_tuple = (device_name, device_status, device_power)               # store the device details in a tuple\n",
    "    devices.append(device_tuple)                                                # store the device details in the list\n",
    "    cont = input('Do you want to add another device? (y/n): ').lower()          # enter choice to add another device or not\n",
    "    if cont != 'y':                                                             # verify the choice is valid or not\n",
    "        break\n",
    "\n",
    "for device in devices:                                                          # to display the devices\n",
    "    print(f'{device[0]}: {device}')\n"
   ]
  },
  {
   "cell_type": "markdown",
   "metadata": {},
   "source": [
    "### 2. Energy Consumption Tracker (Dictionaries & Sets)\n",
    "**Task 2.1: Store Device Energy Usage in a Dictionary**\n",
    "\n",
    "● Create a dictionary where:\n",
    "- Keys: Smart home devices (e.g., \"Lights\", \"AC\", \"Fan\").  \n",
    "-  Values: Energy usage (in kWh).\n",
    "\n",
    "● Allow users to:\n",
    "- Add new energy usage data.\n",
    "- Update existing usage.\n",
    "- Remove a device's energy usage.\n",
    "- Display total energy consumption."
   ]
  },
  {
   "cell_type": "code",
   "execution_count": null,
   "metadata": {},
   "outputs": [
    {
     "name": "stdout",
     "output_type": "stream",
     "text": [
      "Initial Energy Usage: {'Fan': 50, 'Mobile': 100, 'TV': 150}\n",
      "Updated Energy Usage: {'Fan': 50, 'TV': 250}\n",
      "Total energy consumption: 300 kWh\n"
     ]
    }
   ],
   "source": [
    "device_dict = {}                                                                # create empty dictionary\n",
    "while True:                                                                     # loop to keep asking for input\n",
    "    device_name = input(\"Enter the device name: \")                              # ask for device name\n",
    "    energy_usage = int(input(\"Enter the energy usage: \"))                       # ask for energy usage\n",
    "    device_dict[device_name] = energy_usage                                     # add to dictionary\n",
    "    choice = input('Do you want to add more devices? (y/n)').lower()            # ask if user wants to add more devices\n",
    "    if choice != 'y':                                                           # if user doesn't want to add more devices\n",
    "        break                                                                   # exit the loop\n",
    "    else:                                                                   \n",
    "        continue                                                                # if user wants to add more devices, continue the loop\n",
    "\n",
    "print(f'Initial Energy Usage: {device_dict}')                                   # print the initial energy usage dictionary\n",
    "\n",
    "while True:\n",
    "    operation = input('Press U to update existing usage, R to remove data or any other key to Quit: ').upper()\n",
    "    if operation == 'U':                                                        # if user chooses to update existing usage\n",
    "        device_name = input(\"Enter the device name: \")                          # ask for device name\n",
    "        if device_name in device_dict:                                          # if device name exists in dictionary\n",
    "            energy_usage = int(input(\"Enter the new energy usage: \"))           # ask for new energy usage\n",
    "            device_dict[device_name] = energy_usage                             # update the energy usage in dictionary\n",
    "        else: \n",
    "            print('Invalid device name for usage update')\n",
    "            continue\n",
    "    \n",
    "    elif operation == 'R':                                                      # if user chooses to remove data\n",
    "        device_name = input(\"Enter the device name: \")                          # ask for device name\n",
    "        if device_name in device_dict:                                          # if device name exists in dictionary\n",
    "            del device_dict[device_name]                                        # remove the device from dictionary\n",
    "        else:                                                                   # if device name doesn't exist in dictionary\n",
    "            print('The device you entered is not in dictionary')                # print an error message\n",
    "            continue                                                            # continue to the next iteration of the loop\n",
    "\n",
    "    else:\n",
    "        print('Wrong input')\n",
    "\n",
    "    action = input(\"Do you want to continue? (y/n): \")                          # ask if user wants to continue\n",
    "    if action != 'n':                                                           # if user want to continue\n",
    "        continue                                                                # continue the loop\n",
    "    else:\n",
    "        break\n",
    "\n",
    "print(f'Updated Energy Usage: {device_dict}')                                   # print the updated energy usage dictionary\n",
    "print(f'Total energy consumption: {sum(device_dict.values())} kWh')             # print the total energy consumption"
   ]
  },
  {
   "cell_type": "markdown",
   "metadata": {},
   "source": [
    "**Task 2.2: Identify Unique Power-Saving Modes Using Sets**\n",
    "\n",
    "● Create a set to store unique power-saving modes (e.g., \"Eco Mode\", \"Night Mode\",\"Away Mode\").\n",
    "\n",
    "● Allow users to:\n",
    "- Add a new mode.\n",
    "- Check if a mode is available.\n",
    "- View all power-saving modes"
   ]
  },
  {
   "cell_type": "code",
   "execution_count": null,
   "metadata": {},
   "outputs": [
    {
     "name": "stdout",
     "output_type": "stream",
     "text": [
      "Power-Saving Modes: {'Eco Mode', 'Night Mode', 'Sleep Mode'}\n",
      "Sleep Mode is available\n",
      "New Mode Added: Hibernate Mode\n",
      "Power-Saving Modes: {'Eco Mode', 'Night Mode', 'Sleep Mode', 'Hibernate Mode'}\n"
     ]
    }
   ],
   "source": [
    "power_saving_modes = set()                                          # create empty set to store saving modes\n",
    "while True:                                                         # loop to keep asking user for input\n",
    "    mode = input('Enter the mode: ').title()                        # ask user for mode and convert to title case\n",
    "    power_saving_modes.add(mode)                                    # add mode to the set of saving modes\n",
    "    cont = input('Do you want to continue? (y/n): ').lower()        # ask user if they want to continue\n",
    "    if cont != 'y':                                                 # if user doesn't want to continue\n",
    "        break\n",
    "    else:\n",
    "        continue\n",
    "\n",
    "print(f'Power-Saving Modes: {power_saving_modes}')                  # print the set of saving modes\n",
    "\n",
    "while True:\n",
    "    operation = input('Enter A to add new mode, C to check if a mode is available, V to view all power-saving modes: ').lower()    # ask user for operation\n",
    "    if operation == 'a':                                            # if user wants to add a new mode\n",
    "        mode = input('Enter the mode: ').title()                    # ask user for mode and convert to title case\n",
    "        power_saving_modes.add(mode)                                # add mode to the set of saving modes\n",
    "        print(f'New Mode Added: {mode}')                            # print confirmation message\n",
    "\n",
    "    elif operation == 'c':                                          # if user wants to check if a mode is available\n",
    "        mode = input('Enter the mode: ').title()                    # ask user for mode and convert to title case\n",
    "        if mode in power_saving_modes:                              # if mode is in the set of saving modes\n",
    "            print(f'{mode} is available')                           # print confirmation message\n",
    "        else:                                                       \n",
    "            print(f'{mode} is not available')                       \n",
    "    \n",
    "    elif operation == 'v':                                          # if user wants to view all power-saving modes\n",
    "        print(f'Power-Saving Modes: {power_saving_modes}')          # print the set of saving modes\n",
    "    \n",
    "    else:                                                           # if user enters anything else\n",
    "     print('Invalid operation. Please try again.')\n",
    "\n",
    "\n",
    "    cont = input('Do you want to continue? (y/n): ').lower()        # ask user if they want to continue\n",
    "    if cont != 'y':                                                 # if user doesn't want to continue\n",
    "        break\n",
    "    else:\n",
    "        continue\n"
   ]
  },
  {
   "cell_type": "markdown",
   "metadata": {},
   "source": [
    "### 3. Functions for Smart Home Automation\n",
    "**Task 3.1: Create a Function to Calculate Monthly Energy Cost**\n",
    "\n",
    "- Write a function calculate_energy_cost(energy_usage, rate_per_kwh) that:\n",
    "- Takes total energy usage (kWh) and electricity rate per kWh as input.\n",
    "- Calculates total monthly cost"
   ]
  },
  {
   "cell_type": "code",
   "execution_count": null,
   "metadata": {},
   "outputs": [
    {
     "name": "stdout",
     "output_type": "stream",
     "text": [
      "Total Monthly Energy Cost: 19.80 $\n"
     ]
    }
   ],
   "source": [
    "def calculate_energy_cost(energy_usage, rate_per_kwh):                          # Function to calculate the energy cost\n",
    "    total_monthly_cost = energy_usage * rate_per_kwh                            # Multiply the energy usage by the rate per kwh to get the total monthly cost\n",
    "    print(f'Total Monthly Energy Cost: {total_monthly_cost:.2f} $')             # Print the total monthly energy cost with two decimal places\n",
    "\n",
    "energy_usage = int(input('Enter your monthly energy usage in kWh: '))           # Get the user's monthly energy usage in kWh\n",
    "rate_per_kwh = float(input('Enter the rate per kWh: '))                         # Get the rate per kWh from the user\n",
    "calculate_energy_cost(energy_usage, rate_per_kwh)                               # Call the function to calculate the energy cost"
   ]
  },
  {
   "cell_type": "markdown",
   "metadata": {},
   "source": [
    "**Task 3.2: Create a Function to Find Common Devices in Two Homes**\n",
    "\n",
    "- Write a function that:\n",
    "- Takes two lists of smart devices from two different homes.\n",
    "- Returns a set of common devices"
   ]
  },
  {
   "cell_type": "code",
   "execution_count": 18,
   "metadata": {},
   "outputs": [
    {
     "name": "stdout",
     "output_type": "stream",
     "text": [
      "Home_1= ['Ac', 'Mobile', 'Fan', 'Laptop', 'Mobile'] \n",
      "Home_2= ['Fan', 'Ac', 'Iron', 'Mobile', 'Fridge']\n",
      "Common devices= {'Ac', 'Mobile', 'Fan'}\n"
     ]
    }
   ],
   "source": [
    "home_1 = list()                                                             # Create an empty list to store the home_1 device list\n",
    "home_2 = list()                                                             # Create an empty list to store the home_2 device list\n",
    "while True:                                                                 # loop to keep asking user for input\n",
    "    device = input('Enter the device for home_1: ').title()                 # Ask user to input the device for home_1 and convert to title case\n",
    "    home_1.append(device)                                                   # Add the device to the home_1 list\n",
    "    device = input('Enter the device for home_2: ').title()                 # Ask user to input the device for home_2 and convert to title case\n",
    "    home_2.append(device)                                                   # Add the device to the home_2 list\n",
    "    cont = input('Do you want to continue? (y/n): ').lower()                # Ask user if they want to continue\n",
    "    if cont != 'y':                                                         # If user does not want to continue\n",
    "        break                                                               # Break out of the loop\n",
    "    else:                                                                   # If user wants to continue\n",
    "        continue                                                            # Continue to the next iteration of the loop\n",
    "\n",
    "print(f'Home_1 devices= {home_1} \\nHome_2 devices= {home_2}')               # Print the home_1 and home_2 lists\n",
    "\n",
    "def find_common_devices(home1_devices, home2_devices):                      # Define a function to find common devices\n",
    "    common_devices = set(home1_devices) & set(home2_devices)                # Use set intersection to find common devices\n",
    "    print(f'Common devices= {common_devices}')                              # Print the common devices\n",
    "\n",
    "find_common_devices(home_1, home_2)                                         # Call the function to find common devices"
   ]
  },
  {
   "cell_type": "markdown",
   "metadata": {},
   "source": [
    "### 4. Automation Features (Advanced Functions)\n",
    "**Task 4.1: Create an Automation Rule Using Functions**\n",
    "\n",
    "- Write a function set_automation_rule(device, time, action) that:\n",
    "- Takes a device name, time, and an action (ON/OFF).\n",
    "- Returns a message indicating the automation rule."
   ]
  },
  {
   "cell_type": "code",
   "execution_count": null,
   "metadata": {},
   "outputs": [
    {
     "name": "stdout",
     "output_type": "stream",
     "text": [
      "Automation Rule: Led tv will be turned ON at 10:00 pm.\n"
     ]
    }
   ],
   "source": [
    "def set_automation_rule(device, time, action):                                      # Set automation rule function\n",
    "    print(f'Automation Rule: {device} will be turned {action} at {time}.')          # Print automation rule\n",
    "\n",
    "device_name = input('Enter device name: ').title()                                  # Get device name from user\n",
    "time_input = input('Enter time: ').capitalize()                                     # Get time from user\n",
    "action_input = input('Enter action (on/off): ').upper()                             # Get action from user\n",
    "set_automation_rule(device_name, time_input, action_input)                          # Call set automation rule function"
   ]
  },
  {
   "cell_type": "markdown",
   "metadata": {},
   "source": [
    "### Task 4.2: Function to Optimize Power Consumption\n",
    "- Write a function that:\n",
    "- Takes a list of devices with their power usage.\n",
    "- Turns off devices consuming high power (> 1000W).\n",
    "- Returns an updated list of active devices"
   ]
  },
  {
   "cell_type": "code",
   "execution_count": 36,
   "metadata": {},
   "outputs": [
    {
     "name": "stdout",
     "output_type": "stream",
     "text": [
      "device = [('Fan', 60), ('Ac', 1500)]\n",
      "{'Fan': 60, 'Ac': 1500}\n",
      "['Fan']\n"
     ]
    }
   ],
   "source": [
    "device_list = []                                                            # List to store the devices\n",
    "updated_list = []                                                           # List to store the updated devices\n",
    "def create_device_list():                                                   # Function to create the device list\n",
    "    while True:                                                             # Loop to continuously add devices to the list\n",
    "        device_name = input('Enter the device name: ').capitalize()         # Get the device name from the user\n",
    "        power_consumption = int(input('Ente the power consumption: '))      # Get the power consumption from the user\n",
    "        device_data = (device_name, power_consumption)                      # Store the device data in a tuple\n",
    "        device_list.append(device_data)                                     # Add the device data to the list\n",
    "        cont = input('Do you want to continue: (y/n)').lower()              # Ask the user if they want to continue\n",
    "        if cont != 'y':                                                     # If the user doesn't want to continue\n",
    "            break                                                           # Break the loop\n",
    "        else:                                                               # If the user wants to continue\n",
    "            continue                                                        # Continue to the next iteration\n",
    "\n",
    "create_device_list()                                                        # Call the function to create the device list\n",
    "print(f'device = {device_list}')                                            # Print the device list\n",
    "\n",
    "dict_device = dict(device_list)                                             # Convert the list to a dictionary to update the power consumption\n",
    "print(dict_device)                                                          # Print the dictionary for verification\n",
    "\n",
    "def optimize_power(dict_device):                                            # Function to optimize the power consumption\n",
    "    for name, power in dict_device.items():                                 # Loop through the devices in the dictionary\n",
    "        if power > 1000:                                                    # If the power consumption is greater than 1000\n",
    "            print(f'Turn of the {name}')                                    # Print a message to turn off the device\n",
    "            continue                                                        # Skip to the next iteration\n",
    "        else:                                                               # If the power consumption is less than or equal to 1000\n",
    "            updated_list.append(name)                                       # Add the device name to the updated list\n",
    "    print(f'{updated_list}')                                                # Print the updated list\n",
    "    \n",
    "optimize_power(dict_device)                                                 # Call the function to optimize the power consumption"
   ]
  },
  {
   "cell_type": "markdown",
   "metadata": {},
   "source": [
    "### Bonus Challenge (Optional)\n",
    "\n",
    "#### Smart Home AI Assistant (Using *args & **kwargs)\n",
    "\n",
    "- Create a function smart_home_assistant(name, *args, **kwargs)\n",
    "-  where: name: Homeowner's Name.\n",
    "- *args: Devices that need status updates.\n",
    "- **kwargs: Automation commands (e.g., lights=\"ON\", fan=\"OFF\").\n",
    "- The function should:\n",
    "- Print the devices being checked.\n",
    "- Execute automation commands and return updated status."
   ]
  },
  {
   "cell_type": "code",
   "execution_count": 46,
   "metadata": {},
   "outputs": [
    {
     "name": "stdout",
     "output_type": "stream",
     "text": [
      "Checking status for: AC, Lights, TV\n",
      "AC set to OFF\n",
      "Lights set to ON\n",
      "TV set to ON\n"
     ]
    }
   ],
   "source": [
    "def smart_home_assistant(name, *devices, **automation_commands):\n",
    "\n",
    "    print(f\"Checking status for: {', '.join(devices)}\")\n",
    "    \n",
    "    for device, command in automation_commands.items():\n",
    "        print(f'{device} set to {command}')\n",
    "\n",
    "automation_commands = dict()\n",
    "name = input(\"Enter Homeowner's name: \")\n",
    "device = ('AC', 'Lights', 'TV')\n",
    "command = {'AC' : 'OFF', 'Lights' : 'ON', 'TV' : 'ON'}\n",
    "\n",
    "smart_home_assistant(name , *device, **command)"
   ]
  }
 ],
 "metadata": {
  "kernelspec": {
   "display_name": "Python 3",
   "language": "python",
   "name": "python3"
  },
  "language_info": {
   "codemirror_mode": {
    "name": "ipython",
    "version": 3
   },
   "file_extension": ".py",
   "mimetype": "text/x-python",
   "name": "python",
   "nbconvert_exporter": "python",
   "pygments_lexer": "ipython3",
   "version": "3.12.8"
  }
 },
 "nbformat": 4,
 "nbformat_minor": 2
}
