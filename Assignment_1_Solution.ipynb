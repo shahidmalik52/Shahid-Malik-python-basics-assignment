{
  "cells": [
    {
      "cell_type": "markdown",
      "metadata": {
        "id": "ZZb8e4Fm2DuL"
      },
      "source": [
        "## Part 1: Temperature Comparison"
      ]
    },
    {
      "cell_type": "code",
      "execution_count": 2,
      "metadata": {
        "colab": {
          "base_uri": "https://localhost:8080/"
        },
        "id": "DY9xB7Mk1-rh",
        "outputId": "c6144386-1eae-442e-8bfd-5fc746c64229"
      },
      "outputs": [
        {
          "name": "stdout",
          "output_type": "stream",
          "text": [
            "City A is hotter than City B. 29\n"
          ]
        }
      ],
      "source": [
        "city_a_temp = float(input())\n",
        "city_b_temp = float(input())\n",
        "result = f\"City A is {'hotter than ' * (city_a_temp > city_b_temp)}{'cooler than ' * (city_a_temp < city_b_temp)}{'the same as ' * (city_a_temp == city_b_temp)}City B.\"\n",
        "# print(f\"City A is {'hotter than ' * (city_a_temp > city_b_temp)}{'cooler than ' * (city_a_temp < city_b_temp)}{'the same as ' * (city_a_temp == city_b_temp)}City B.\")\n",
        "print(result, len(result))\n"
      ]
    },
    {
      "cell_type": "markdown",
      "metadata": {
        "id": "4et6-Fmr2uEb"
      },
      "source": [
        "Explanation:\n",
        "1. (city_a_temp > city_b_temp): This evaluates to True or False. In Python, True acts as 1 and False acts as 0 in mathematical operations.\n",
        "2. 'hotter than ' * (city_a_temp > city_b_temp): If city_a_temp > city_b_temp is True, this becomes 'hotter than ' (repeated once). If False, it becomes an empty string ('').\n",
        "3. Similarly:\n",
        "  * 'cooler than ' * (city_a_temp < city_b_temp)\n",
        "  * 'the same as ' * (city_a_temp == city_b_temp)\n",
        "\n",
        "4. These strings are concatenated, ensuring that only the correct phrase appears based on the comparison.\n",
        "5. Result: A single print outputs the correct statement."
      ]
    },
    {
      "cell_type": "markdown",
      "metadata": {
        "id": "M1a1ODqI2Kyq"
      },
      "source": [
        "## Part 2: Bill Splitter"
      ]
    },
    {
      "cell_type": "code",
      "execution_count": null,
      "metadata": {
        "id": "NieMfji72IPu"
      },
      "outputs": [],
      "source": [
        "total_bill = float(input())\n",
        "num_people = int(input())\n",
        "\n",
        "print(f\"Total Bill: ${total_bill}\\nNumber of People: {num_people}\\nEach Person Pays: ${total_bill / num_people:.2f}\")\n"
      ]
    },
    {
      "cell_type": "markdown",
      "metadata": {
        "id": "DRPEHeUL2Xua"
      },
      "source": [
        "## Part 3: Custom Message Formatter"
      ]
    },
    {
      "cell_type": "code",
      "execution_count": null,
      "metadata": {
        "id": "4ahKDT5I2XUa"
      },
      "outputs": [],
      "source": [
        "name = input()\n",
        "color = input()\n",
        "number = input()\n",
        "\n",
        "print(f\"{name} loves the color {color} and their favorite number is {number}.\")\n"
      ]
    },
    {
      "cell_type": "markdown",
      "metadata": {
        "id": "zbQEhOFk2bXi"
      },
      "source": [
        "## Part 4: Two-Number Relationship"
      ]
    },
    {
      "cell_type": "code",
      "execution_count": null,
      "metadata": {
        "id": "RNeMiur-2bHi"
      },
      "outputs": [],
      "source": [
        "num1 = int(input())\n",
        "num2 = int(input())\n",
        "\n",
        "print(f\"Number 1: {num1}\\nNumber 2: {num2}\\nRelationship: {'Greater than ' * (num1 > num2)}{'Less than ' * (num1 < num2)}{'Equal ' * (num1 == num2)}\")\n",
        "print(f\"Both numbers are {'Even ' * (num1 % 2 == 0 and num2 % 2 == 0)}{'Odd ' * (num1 % 2 != 0 and num2 % 2 != 0)}{'Mixed ' * (num1 % 2 != num2 % 2)}.\")\n"
      ]
    },
    {
      "cell_type": "markdown",
      "metadata": {
        "id": "mjBtY4Lv2dxi"
      },
      "source": [
        "## Part 5: Rectangle Calculator"
      ]
    },
    {
      "cell_type": "code",
      "execution_count": null,
      "metadata": {
        "id": "81U6Y9ks2elp"
      },
      "outputs": [],
      "source": [
        "length = float(input())\n",
        "width = float(input())\n",
        "\n",
        "print(f\"Length: {length}\\nWidth: {width}\\nArea: {length * width}\\nPerimeter: {2 * (length + width)}\")\n"
      ]
    },
    {
      "cell_type": "markdown",
      "metadata": {
        "id": "Ps2kLxJ42g_y"
      },
      "source": [
        "## Part 6: Age Difference Calculator"
      ]
    },
    {
      "cell_type": "code",
      "execution_count": null,
      "metadata": {
        "id": "B_2pC3nk2iIc"
      },
      "outputs": [],
      "source": [
        "age1 = int(input())\n",
        "age2 = int(input())\n",
        "\n",
        "print(f\"The age difference between {age1} and {age2} is: {abs(age1 - age2)} years.\")\n"
      ]
    },
    {
      "cell_type": "markdown",
      "metadata": {
        "id": "FLPQpo542kMK"
      },
      "source": [
        "## Part 7: Days to Seconds Converter"
      ]
    },
    {
      "cell_type": "code",
      "execution_count": null,
      "metadata": {
        "id": "3a30J6Ap2j5k"
      },
      "outputs": [],
      "source": [
        "days = int(input())\n",
        "\n",
        "print(f\"{days} days are equal to {days * 24 * 60 * 60} seconds.\")\n"
      ]
    },
    {
      "cell_type": "markdown",
      "metadata": {
        "id": "6-lOra9M2nUt"
      },
      "source": [
        "## Part 8: Arithmetic Checker"
      ]
    },
    {
      "cell_type": "code",
      "execution_count": null,
      "metadata": {
        "id": "enoCzmNy2oEt"
      },
      "outputs": [],
      "source": [
        "num1 = float(input())\n",
        "num2 = float(input())\n",
        "operator = input()\n",
        "\n",
        "print(f\"{num1} {operator} {num2} = {eval(f'{num1}{operator}{num2}')}\")\n"
      ]
    }
  ],
  "metadata": {
    "colab": {
      "provenance": []
    },
    "kernelspec": {
      "display_name": "Python 3",
      "name": "python3"
    },
    "language_info": {
      "codemirror_mode": {
        "name": "ipython",
        "version": 3
      },
      "file_extension": ".py",
      "mimetype": "text/x-python",
      "name": "python",
      "nbconvert_exporter": "python",
      "pygments_lexer": "ipython3",
      "version": "3.12.8"
    }
  },
  "nbformat": 4,
  "nbformat_minor": 0
}
