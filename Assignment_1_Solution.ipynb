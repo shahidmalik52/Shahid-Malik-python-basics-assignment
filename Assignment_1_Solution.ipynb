{
  "nbformat": 4,
  "nbformat_minor": 0,
  "metadata": {
    "colab": {
      "provenance": []
    },
    "kernelspec": {
      "name": "python3",
      "display_name": "Python 3"
    },
    "language_info": {
      "name": "python"
    }
  },
  "cells": [
    {
      "cell_type": "markdown",
      "source": [
        "## Part 1: Temperature Comparison"
      ],
      "metadata": {
        "id": "ZZb8e4Fm2DuL"
      }
    },
    {
      "cell_type": "code",
      "execution_count": 1,
      "metadata": {
        "colab": {
          "base_uri": "https://localhost:8080/"
        },
        "id": "DY9xB7Mk1-rh",
        "outputId": "c6144386-1eae-442e-8bfd-5fc746c64229"
      },
      "outputs": [
        {
          "output_type": "stream",
          "name": "stdout",
          "text": [
            "13\n",
            "51\n",
            "City A is cooler than City B.\n"
          ]
        }
      ],
      "source": [
        "city_a_temp = float(input())\n",
        "city_b_temp = float(input())\n",
        "\n",
        "print(f\"City A is {'hotter than ' * (city_a_temp > city_b_temp)}{'cooler than ' * (city_a_temp < city_b_temp)}{'the same as ' * (city_a_temp == city_b_temp)}City B.\")\n"
      ]
    },
    {
      "cell_type": "markdown",
      "source": [
        "Explanation:\n",
        "1. (city_a_temp > city_b_temp): This evaluates to True or False. In Python, True acts as 1 and False acts as 0 in mathematical operations.\n",
        "2. 'hotter than ' * (city_a_temp > city_b_temp): If city_a_temp > city_b_temp is True, this becomes 'hotter than ' (repeated once). If False, it becomes an empty string ('').\n",
        "3. Similarly:\n",
        "  * 'cooler than ' * (city_a_temp < city_b_temp)\n",
        "  * 'the same as ' * (city_a_temp == city_b_temp)\n",
        "\n",
        "4. These strings are concatenated, ensuring that only the correct phrase appears based on the comparison.\n",
        "5. Result: A single print outputs the correct statement."
      ],
      "metadata": {
        "id": "4et6-Fmr2uEb"
      }
    },
    {
      "cell_type": "markdown",
      "source": [
        "## Part 2: Bill Splitter"
      ],
      "metadata": {
        "id": "M1a1ODqI2Kyq"
      }
    },
    {
      "cell_type": "code",
      "source": [
        "total_bill = float(input())\n",
        "num_people = int(input())\n",
        "\n",
        "print(f\"Total Bill: ${total_bill}\\nNumber of People: {num_people}\\nEach Person Pays: ${total_bill / num_people:.2f}\")\n"
      ],
      "metadata": {
        "id": "NieMfji72IPu"
      },
      "execution_count": null,
      "outputs": []
    },
    {
      "cell_type": "markdown",
      "source": [
        "## Part 3: Custom Message Formatter"
      ],
      "metadata": {
        "id": "DRPEHeUL2Xua"
      }
    },
    {
      "cell_type": "code",
      "source": [
        "name = input()\n",
        "color = input()\n",
        "number = input()\n",
        "\n",
        "print(f\"{name} loves the color {color} and their favorite number is {number}.\")\n"
      ],
      "metadata": {
        "id": "4ahKDT5I2XUa"
      },
      "execution_count": null,
      "outputs": []
    },
    {
      "cell_type": "markdown",
      "source": [
        "## Part 4: Two-Number Relationship"
      ],
      "metadata": {
        "id": "zbQEhOFk2bXi"
      }
    },
    {
      "cell_type": "code",
      "source": [
        "num1 = int(input())\n",
        "num2 = int(input())\n",
        "\n",
        "print(f\"Number 1: {num1}\\nNumber 2: {num2}\\nRelationship: {'Greater than ' * (num1 > num2)}{'Less than ' * (num1 < num2)}{'Equal ' * (num1 == num2)}\")\n",
        "print(f\"Both numbers are {'Even ' * (num1 % 2 == 0 and num2 % 2 == 0)}{'Odd ' * (num1 % 2 != 0 and num2 % 2 != 0)}{'Mixed ' * (num1 % 2 != num2 % 2)}.\")\n"
      ],
      "metadata": {
        "id": "RNeMiur-2bHi"
      },
      "execution_count": null,
      "outputs": []
    },
    {
      "cell_type": "markdown",
      "source": [
        "## Part 5: Rectangle Calculator"
      ],
      "metadata": {
        "id": "mjBtY4Lv2dxi"
      }
    },
    {
      "cell_type": "code",
      "source": [
        "length = float(input())\n",
        "width = float(input())\n",
        "\n",
        "print(f\"Length: {length}\\nWidth: {width}\\nArea: {length * width}\\nPerimeter: {2 * (length + width)}\")\n"
      ],
      "metadata": {
        "id": "81U6Y9ks2elp"
      },
      "execution_count": null,
      "outputs": []
    },
    {
      "cell_type": "markdown",
      "source": [
        "## Part 6: Age Difference Calculator"
      ],
      "metadata": {
        "id": "Ps2kLxJ42g_y"
      }
    },
    {
      "cell_type": "code",
      "source": [
        "age1 = int(input())\n",
        "age2 = int(input())\n",
        "\n",
        "print(f\"The age difference between {age1} and {age2} is: {abs(age1 - age2)} years.\")\n"
      ],
      "metadata": {
        "id": "B_2pC3nk2iIc"
      },
      "execution_count": null,
      "outputs": []
    },
    {
      "cell_type": "markdown",
      "source": [
        "## Part 7: Days to Seconds Converter"
      ],
      "metadata": {
        "id": "FLPQpo542kMK"
      }
    },
    {
      "cell_type": "code",
      "source": [
        "days = int(input())\n",
        "\n",
        "print(f\"{days} days are equal to {days * 24 * 60 * 60} seconds.\")\n"
      ],
      "metadata": {
        "id": "3a30J6Ap2j5k"
      },
      "execution_count": null,
      "outputs": []
    },
    {
      "cell_type": "markdown",
      "source": [
        "## Part 8: Arithmetic Checker"
      ],
      "metadata": {
        "id": "6-lOra9M2nUt"
      }
    },
    {
      "cell_type": "code",
      "source": [
        "num1 = float(input())\n",
        "num2 = float(input())\n",
        "operator = input()\n",
        "\n",
        "print(f\"{num1} {operator} {num2} = {eval(f'{num1}{operator}{num2}')}\")\n"
      ],
      "metadata": {
        "id": "enoCzmNy2oEt"
      },
      "execution_count": null,
      "outputs": []
    }
  ]
}